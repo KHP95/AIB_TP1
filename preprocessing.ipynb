{
 "cells": [
  {
   "cell_type": "markdown",
   "metadata": {},
   "source": [
    "# 데이터 전처리 성능 비교"
   ]
  },
  {
   "cell_type": "markdown",
   "metadata": {},
   "source": [
    "## data1"
   ]
  },
  {
   "cell_type": "code",
   "execution_count": 2,
   "metadata": {},
   "outputs": [
    {
     "data": {
      "text/plain": [
       "''"
      ]
     },
     "execution_count": 2,
     "metadata": {},
     "output_type": "execute_result"
    }
   ],
   "source": [
    "import pandas as pd\n",
    "import numpy as np\n",
    "import matplotlib.pyplot as plt\n",
    "\n",
    "from sklearn.preprocessing import StandardScaler\n",
    "from sklearn.preprocessing import OneHotEncoder\n",
    "from sklearn.preprocessing import TargetEncoder\n",
    "from sklearn.model_selection import train_test_split\n",
    "from sklearn.compose import make_column_transformer\n",
    "from sklearn.metrics import r2_score\n",
    "from sklearn.metrics import mean_squared_error\n",
    "from sklearn.model_selection import cross_val_score\n",
    "\n",
    "from xgboost import XGBRegressor\n",
    "\n",
    "\n",
    "def data1_prepro(df1=None, train=False, onehot=True):\n",
    "    '''\n",
    "    data1 전처리 함수.\n",
    "\n",
    "    args:\n",
    "        train : 학습용으로 전처리할것인지\n",
    "        onehot : 원핫인코딩 할것인지 타겟인코딩 할것인지 (False=타겟인코딩)\n",
    "    \n",
    "    returns:\n",
    "        X_train, X_test, y_train, y_test : train=True인경우\n",
    "        X : train=False인 경우\n",
    "    '''\n",
    "    if not df1:\n",
    "        df1 = pd.read_csv('data/Regression_data.csv')\n",
    "\n",
    "    num_cols = df1.drop(columns=['Sex', 'Rings']).columns\n",
    "    cat_cols = ['Sex']\n",
    "\n",
    "    # Height 이상치 클립 : 최대값 0.3\n",
    "    df1.Height.clip(upper=0.3, inplace=True)\n",
    "\n",
    "    # ohe 인경우 먼저 인코딩\n",
    "    scaler = StandardScaler()\n",
    "    scaler.set_output(transform='pandas')\n",
    "    ohe = OneHotEncoder(sparse_output=False)\n",
    "    ohe.set_output(transform='pandas')\n",
    "    te = TargetEncoder(target_type='continuous')\n",
    "    te.set_output(transform='pandas')\n",
    "\n",
    "    # 컬럼 변환기1 : Sex ohe, 나머지 표준화\n",
    "    data1_ct_ohe = make_column_transformer(\n",
    "        (ohe, cat_cols),\n",
    "        (scaler, num_cols),\n",
    "        remainder='passthrough'\n",
    "    )\n",
    "    data1_ct_ohe.set_output(transform='pandas')\n",
    "\n",
    "    # 컬럼 변환기2 : Sex te, 나머지 표준화\n",
    "    data1_ct_te = make_column_transformer(\n",
    "        (te, cat_cols),\n",
    "        (scaler, num_cols),\n",
    "        remainder='passthrough'\n",
    "    )\n",
    "    data1_ct_te.set_output(transform='pandas')\n",
    "\n",
    "    if 'Rings' in df1:\n",
    "        X = df1.drop(columns='Rings')   \n",
    "        y = df1.Rings\n",
    "    else:\n",
    "        X = df1\n",
    "\n",
    "    if train:\n",
    "        # test비율 20%로\n",
    "        X_train, X_test, y_train, y_test = train_test_split(X, y,\n",
    "                                                            test_size=0.2,\n",
    "                                                            random_state=42)\n",
    "        if onehot:\n",
    "            X_train = data1_ct_ohe.fit_transform(X_train)\n",
    "            X_test = data1_ct_ohe.transform(X_test)\n",
    "        else:\n",
    "            X_train = data1_ct_te.fit_transform(X_train, y_train)\n",
    "            X_test = data1_ct_te.transform(X_test)\n",
    "        return X_train, X_test, y_train, y_test\n",
    "    else:\n",
    "        return X\n",
    "    \n",
    "\n",
    "X_train, X_test, y_train, y_test = data1_prepro(train=True)\n",
    "X_train_te, X_test_te, y_train_te, y_test_te = data1_prepro(train=True, onehot=False)\n",
    "\n",
    "model = XGBRegressor(n_estimators=500,\n",
    "                     objective='reg:squarederror',\n",
    "                     booster='gbtree',\n",
    "                     max_depth=8,\n",
    "                     learning_rate=0.01,\n",
    "                     tree_method='gpu_hist',\n",
    "                     gpu_id=0,\n",
    "                     eval_metric='rmse',\n",
    "                     early_stopping_rounds=20,\n",
    "                     random_state=42)\n",
    "\n",
    "model2 = XGBRegressor(n_estimators=500,\n",
    "                     objective='reg:squarederror',\n",
    "                     booster='gbtree',\n",
    "                     max_depth=8,\n",
    "                     learning_rate=0.01,\n",
    "                     tree_method='gpu_hist',\n",
    "                     gpu_id=0,\n",
    "                     eval_metric='rmse',\n",
    "                     early_stopping_rounds=20,\n",
    "                     random_state=42)\n",
    "\n",
    "model.fit(X_train, y_train,\n",
    "          eval_set=[(X_test, y_test)],\n",
    "          verbose=False)\n",
    "\n",
    "model2.fit(X_train_te, y_train_te,\n",
    "          eval_set=[(X_test_te, y_test_te)],\n",
    "          verbose=False)\n",
    "''"
   ]
  },
  {
   "cell_type": "code",
   "execution_count": 20,
   "metadata": {},
   "outputs": [
    {
     "data": {
      "image/png": "[encoded data removed]",
      "text/plain": [
       "<Figure size 640x480 with 1 Axes>"
      ]
     },
     "metadata": {},
     "output_type": "display_data"
    }
   ],
   "source": [
    "# AE로 차원축소\n",
    "import tensorflow.keras as keras\n",
    "import tensorflow as tf\n",
    "import time\n",
    "\n",
    "\n",
    "def AE_feature_extraction(X):\n",
    "    \"\"\"\n",
    "    오토인코더로 차원축소 7 => 4\n",
    "    학습후에 인코더만 반환\n",
    "    \"\"\"\n",
    "    # 7 => 4\n",
    "    encoder = keras.models.Sequential([\n",
    "        keras.layers.Dense(4, activation='relu')\n",
    "        ]\n",
    "    )\n",
    "    # 4 => 7\n",
    "    decoder = keras.models.Sequential([\n",
    "        keras.layers.Dense(7, activation=None)\n",
    "        ]\n",
    "    )\n",
    "    # 컴파일 : loss = mse, opt = adam\n",
    "    AutoEncoder = keras.Sequential([encoder, decoder])\n",
    "    AutoEncoder.compile(optimizer=keras.optimizers.Adam(0.01),\n",
    "                        loss='mse')\n",
    "    \n",
    "    # 콜백 정의\n",
    "    # reduce_lr : 학습이 잘 안되면(6 epochs) 학습률 감소\n",
    "    # e_stop : 특정epoch이상 차도 없으면(12 epochs) 중단\n",
    "    reduce_lr = tf.keras.callbacks.ReduceLROnPlateau(monitor='val_loss',\n",
    "                                                     factor=0.5, patience=6,\n",
    "                                                     verbose=0, mode='auto')\n",
    "    e_stop = tf.keras.callbacks.EarlyStopping(monitor='val_loss',\n",
    "                                              patience=12,\n",
    "                                              restore_best_weights=True)\n",
    "    # 학습\n",
    "    hist = AutoEncoder.fit(X, X,\n",
    "                           batch_size=32,\n",
    "                           validation_split=.25,\n",
    "                           epochs=200,\n",
    "                           callbacks=[e_stop, reduce_lr],\n",
    "                           verbose=0)\n",
    "    \n",
    "    # 오토인코더 train, val의 epoch별 loss확인\n",
    "    plt.plot(hist.history['loss'], label='train')\n",
    "    plt.plot(hist.history['val_loss'], label='val')\n",
    "    plt.xlabel('epoch')\n",
    "    plt.ylabel('loss')\n",
    "    plt.legend()\n",
    "    plt.show()\n",
    "\n",
    "    return encoder\n",
    "\n",
    "encoder = AE_feature_extraction(X_train.iloc[:,3:])"
   ]
  },
  {
   "cell_type": "code",
   "execution_count": 21,
   "metadata": {},
   "outputs": [
    {
     "data": {
      "text/plain": [
       "''"
      ]
     },
     "execution_count": 21,
     "metadata": {},
     "output_type": "execute_result"
    }
   ],
   "source": [
    "X_train2 = np.hstack((X_train.iloc[:,:3], encoder.predict(X_train.iloc[:,3:], verbose=0)))\n",
    "X_test2 = np.hstack((X_test.iloc[:,:3], encoder.predict(X_test.iloc[:,3:], verbose=0)))\n",
    "\n",
    "model3 = XGBRegressor(n_estimators=500,\n",
    "                     objective='reg:squarederror',\n",
    "                     booster='gbtree',\n",
    "                     max_depth=8,\n",
    "                     learning_rate=0.01,\n",
    "                     tree_method='gpu_hist',\n",
    "                     gpu_id=0,\n",
    "                     eval_metric='rmse',\n",
    "                     early_stopping_rounds=20,\n",
    "                     random_state=42)\n",
    "\n",
    "model3.fit(X_train2, y_train,\n",
    "           eval_set=[(X_test2, y_test)],\n",
    "           verbose=False)\n",
    "''"
   ]
  },
  {
   "cell_type": "code",
   "execution_count": 25,
   "metadata": {},
   "outputs": [
    {
     "data": {
      "text/plain": [
       "''"
      ]
     },
     "execution_count": 25,
     "metadata": {},
     "output_type": "execute_result"
    }
   ],
   "source": [
    "from sklearn.decomposition import PCA\n",
    "\n",
    "pca = PCA(n_components=4)\n",
    "\n",
    "X_train3 = pca.fit_transform(X_train.iloc[:,3:])\n",
    "X_test3 = pca.transform(X_test.iloc[:,3:])\n",
    "\n",
    "X_train3 = np.hstack((X_train.iloc[:,:3], X_train3))\n",
    "X_test3 = np.hstack((X_test.iloc[:,:3], X_test3))\n",
    "\n",
    "model4 = XGBRegressor(n_estimators=500,\n",
    "                     objective='reg:squarederror',\n",
    "                     booster='gbtree',\n",
    "                     max_depth=8,\n",
    "                     learning_rate=0.01,\n",
    "                     tree_method='gpu_hist',\n",
    "                     gpu_id=0,\n",
    "                     eval_metric='rmse',\n",
    "                     early_stopping_rounds=20,\n",
    "                     random_state=42)\n",
    "\n",
    "model4.fit(X_train3, y_train,\n",
    "           eval_set=[(X_test3, y_test)],\n",
    "           verbose=False)\n",
    "''"
   ]
  },
  {
   "cell_type": "code",
   "execution_count": 131,
   "metadata": {},
   "outputs": [
    {
     "data": {
      "text/plain": [
       "''"
      ]
     },
     "execution_count": 131,
     "metadata": {},
     "output_type": "execute_result"
    }
   ],
   "source": [
    "# 혹시 모르니 skewness 조정된 버전도 실험\n",
    "from scipy.stats import boxcox\n",
    "from scipy.special import boxcox1p\n",
    "\n",
    "def data1_prepro_noskew(df1=None):\n",
    "\n",
    "    if not df1:\n",
    "        df1 = pd.read_csv('data/Regression_data.csv')\n",
    "\n",
    "    num_cols = df1.drop(columns=['Sex', 'Rings']).columns\n",
    "    cat_cols = ['Sex']\n",
    "\n",
    "    # Height 이상치 클립 : 최대값 0.3\n",
    "    df1.Height.clip(upper=0.3, inplace=True)\n",
    "\n",
    "    # boxcox로 Sex, Ring제외 skewness 전부 조정\n",
    "    temp = df1[num_cols].apply(lambda x: x+0.001).apply(lambda x: boxcox(x)[0])\n",
    "    X = pd.concat([df1[cat_cols], temp], axis=1)\n",
    "    y = df1.Rings\n",
    "\n",
    "    # ohe 인경우 먼저 인코딩\n",
    "    scaler = StandardScaler()\n",
    "    scaler.set_output(transform='pandas')\n",
    "    ohe = OneHotEncoder(sparse_output=False)\n",
    "    ohe.set_output(transform='pandas')\n",
    "\n",
    "    # 컬럼 변환기1 : Sex ohe, 나머지 표준화\n",
    "    data1_ct_ohe = make_column_transformer(\n",
    "        (ohe, cat_cols),\n",
    "        (scaler, num_cols),\n",
    "        remainder='passthrough'\n",
    "    )\n",
    "    data1_ct_ohe.set_output(transform='pandas')\n",
    "    \n",
    "    # test비율 20%로\n",
    "    X_train, X_test, y_train, y_test = train_test_split(X, y,\n",
    "                                                        test_size=0.2,\n",
    "                                                        random_state=40)\n",
    "    \n",
    "    X_train = data1_ct_ohe.fit_transform(X_train)\n",
    "    X_test = data1_ct_ohe.transform(X_test)\n",
    "\n",
    "    return X_train, X_test, y_train, y_test\n",
    "\n",
    "X_train4, X_test4, y_train4, y_test4 = data1_prepro_noskew()\n",
    "\n",
    "model5 = XGBRegressor(n_estimators=500,\n",
    "                     objective='reg:squarederror',\n",
    "                     booster='gbtree',\n",
    "                     max_depth=8,\n",
    "                     learning_rate=0.01,\n",
    "                     tree_method='gpu_hist',\n",
    "                     gpu_id=0,\n",
    "                     eval_metric='rmse',\n",
    "                     early_stopping_rounds=20,\n",
    "                     random_state=42)\n",
    "\n",
    "model5.fit(X_train4, y_train4,\n",
    "           eval_set=[(X_test4, y_test4)],\n",
    "           verbose=False)\n",
    "''"
   ]
  },
  {
   "cell_type": "code",
   "execution_count": 143,
   "metadata": {},
   "outputs": [
    {
     "name": "stdout",
     "output_type": "stream",
     "text": [
      "ohe cv rmse : [2.0640369  2.29157908 2.29728733 2.17979154 2.00275552]\n",
      "ohe cv noskew rmse : [2.19021825 2.2022373  2.21177252 2.15222797 2.219526  ]\n",
      "te cv rmse : [2.07481908 2.31469053 2.29444519 2.16152719 2.05606906]\n",
      "ae cv rmse : [2.16315881 2.44069981 2.43922467 2.28064144 2.11798293]\n",
      "pca cv rmse : [2.13613558 2.42536024 2.32408536 2.27655981 2.10901572]\n",
      "\n",
      "ohe mean rmse : 2.167090074629537\n",
      "ohe noskew mean rmse : 2.1951964094506162\n",
      "te mean rmse : 2.1803102090912247\n",
      "ae mean rmse : 2.288341532186832\n",
      "pca mean rmse : 2.2542313412077624\n"
     ]
    }
   ],
   "source": [
    "def cv(model, X_train, X_test, y_train, y_test):\n",
    "    rmse =cross_val_score(model, X_train, y_train,\n",
    "                          scoring='neg_mean_squared_error',\n",
    "                          cv=5,\n",
    "                          fit_params={'eval_set':[(X_test, y_test)],\n",
    "                                      'verbose':False,})\n",
    "\n",
    "    rmse = np.sqrt(np.abs(rmse))\n",
    "    return rmse\n",
    "\n",
    "ohe_rmse = cv(model, X_train, X_test, y_train, y_test)\n",
    "ohe_noskew_rmse = cv(model5, X_train4, X_test4, y_train4, y_test4)\n",
    "te_rmse = cv(model2, X_train_te, X_test_te, y_train_te, y_test_te)\n",
    "ae_rmse = cv(model3, X_train2, X_test2, y_train, y_test)\n",
    "pca_rmse = cv(model4, X_train3, X_test3, y_train, y_test)\n",
    "\n",
    "print(f'ohe cv rmse : {ohe_rmse}')\n",
    "print(f'ohe cv noskew rmse : {ohe_noskew_rmse}')\n",
    "print(f'te cv rmse : {te_rmse}')\n",
    "print(f'ae cv rmse : {ae_rmse}')\n",
    "print(f'pca cv rmse : {pca_rmse}\\n')\n",
    "\n",
    "print(f'ohe mean rmse : {np.mean(ohe_rmse)}')\n",
    "print(f'ohe noskew mean rmse : {np.mean(ohe_noskew_rmse)}')\n",
    "print(f'te mean rmse : {np.mean(te_rmse)}')\n",
    "print(f'ae mean rmse : {np.mean(ae_rmse)}')\n",
    "print(f'pca mean rmse : {np.mean(pca_rmse)}')\n",
    "\n",
    "# xgboost가 공선성에 강하므로 AE, PCA를 통한 feature extraction은 큰 의미는 없는것 같다.\n",
    "# 마찬가지로 skewness를 없애고 진행해도 결과차이는 크지 않다.\n"
   ]
  },
  {
   "cell_type": "markdown",
   "metadata": {},
   "source": [
    "## data1 전처리 요약\n",
    "* Height 이상치 처리\n",
    "* Sex 원핫인코딩, 혹은 타겟인코딩\n",
    "* 수치형 변수 skewness조정시도\n",
    "* 수치형 변수들 표준화\n",
    "* 두가지 차원축소 방법 채택 (AE, PCA)\n",
    "---\n",
    "결과\n",
    "* ohe, te, ae, pca 쓴 결과들이 전부 비슷하다.  \n",
    "* skewness조정한것과 안한것의 차이거의없다.\n",
    "\n",
    "    => 전처리에서 더 할게 있나??"
   ]
  },
  {
   "cell_type": "markdown",
   "metadata": {},
   "source": [
    "## data2"
   ]
  },
  {
   "cell_type": "code",
   "execution_count": null,
   "metadata": {},
   "outputs": [],
   "source": []
  },
  {
   "cell_type": "markdown",
   "metadata": {},
   "source": [
    "## data3"
   ]
  },
  {
   "cell_type": "code",
   "execution_count": null,
   "metadata": {},
   "outputs": [],
   "source": []
  }
 ],
 "metadata": {
  "kernelspec": {
   "display_name": "TP1",
   "language": "python",
   "name": "python3"
  },
  "language_info": {
   "codemirror_mode": {
    "name": "ipython",
    "version": 3
   },
   "file_extension": ".py",
   "mimetype": "text/x-python",
   "name": "python",
   "nbconvert_exporter": "python",
   "pygments_lexer": "ipython3",
   "version": "3.11.3"
  },
  "orig_nbformat": 4
 },
 "nbformat": 4,
 "nbformat_minor": 2
}
