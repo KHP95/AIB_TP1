{
 "cells": [
  {
   "cell_type": "code",
   "execution_count": 4,
   "metadata": {},
   "outputs": [],
   "source": [
    "import pandas as pd\n",
    "import numpy as np\n",
    "import matplotlib.pyplot as plt\n",
    "import seaborn as sns\n",
    "\n",
    "from sklearn.linear_model import LogisticRegression\n",
    "from sklearn.tree import DecisionTreeClassifier\n",
    "from sklearn.svm import SVC\n",
    "from sklearn.ensemble import GradientBoostingClassifier\n",
    "from sklearn.neural_network import MLPClassifier\n",
    "from sklearn.metrics import accuracy_score, precision_score, recall_score, f1_score, roc_auc_score"
   ]
  },
  {
   "cell_type": "code",
   "execution_count": 2,
   "metadata": {},
   "outputs": [
    {
     "name": "stdout",
     "output_type": "stream",
     "text": [
      "<class 'pandas.core.frame.DataFrame'>\n",
      "RangeIndex: 17898 entries, 0 to 17897\n",
      "Data columns (total 9 columns):\n",
      " #   Column                                         Non-Null Count  Dtype  \n",
      "---  ------                                         --------------  -----  \n",
      " 0    Mean of the integrated profile                17898 non-null  float64\n",
      " 1    Standard deviation of the integrated profile  17898 non-null  float64\n",
      " 2    Excess kurtosis of the integrated profile     17898 non-null  float64\n",
      " 3    Skewness of the integrated profile            17898 non-null  float64\n",
      " 4    Mean of the DM-SNR curve                      17898 non-null  float64\n",
      " 5    Standard deviation of the DM-SNR curve        17898 non-null  float64\n",
      " 6    Excess kurtosis of the DM-SNR curve           17898 non-null  float64\n",
      " 7    Skewness of the DM-SNR curve                  17898 non-null  float64\n",
      " 8   target_class                                   17898 non-null  int64  \n",
      "dtypes: float64(8), int64(1)\n",
      "memory usage: 1.2 MB\n"
     ]
    },
    {
     "data": {
      "text/plain": [
       "(    Mean of the integrated profile  \\\n",
       " 0                       140.562500   \n",
       " 1                       102.507812   \n",
       " 2                       103.015625   \n",
       " 3                       136.750000   \n",
       " 4                        88.726562   \n",
       " \n",
       "     Standard deviation of the integrated profile  \\\n",
       " 0                                      55.683782   \n",
       " 1                                      58.882430   \n",
       " 2                                      39.341649   \n",
       " 3                                      57.178449   \n",
       " 4                                      40.672225   \n",
       " \n",
       "     Excess kurtosis of the integrated profile  \\\n",
       " 0                                   -0.234571   \n",
       " 1                                    0.465318   \n",
       " 2                                    0.323328   \n",
       " 3                                   -0.068415   \n",
       " 4                                    0.600866   \n",
       " \n",
       "     Skewness of the integrated profile   Mean of the DM-SNR curve  \\\n",
       " 0                            -0.699648                   3.199833   \n",
       " 1                            -0.515088                   1.677258   \n",
       " 2                             1.051164                   3.121237   \n",
       " 3                            -0.636238                   3.642977   \n",
       " 4                             1.123492                   1.178930   \n",
       " \n",
       "     Standard deviation of the DM-SNR curve  \\\n",
       " 0                                19.110426   \n",
       " 1                                14.860146   \n",
       " 2                                21.744669   \n",
       " 3                                20.959280   \n",
       " 4                                11.468720   \n",
       " \n",
       "     Excess kurtosis of the DM-SNR curve   Skewness of the DM-SNR curve  \\\n",
       " 0                              7.975532                      74.242225   \n",
       " 1                             10.576487                     127.393580   \n",
       " 2                              7.735822                      63.171909   \n",
       " 3                              6.896499                      53.593661   \n",
       " 4                             14.269573                     252.567306   \n",
       " \n",
       "    target_class  \n",
       " 0             0  \n",
       " 1             0  \n",
       " 2             0  \n",
       " 3             0  \n",
       " 4             0  ,\n",
       " None)"
      ]
     },
     "execution_count": 2,
     "metadata": {},
     "output_type": "execute_result"
    }
   ],
   "source": [
    "data = pd.read_csv('./data/binary_classification_data.csv')\n",
    "\n",
    "data.head(), data.info()"
   ]
  },
  {
   "cell_type": "code",
   "execution_count": 10,
   "metadata": {},
   "outputs": [
    {
     "data": {
      "text/plain": [
       " Mean of the integrated profile                   8626\n",
       " Standard deviation of the integrated profile    17862\n",
       " Excess kurtosis of the integrated profile       17897\n",
       " Skewness of the integrated profile              17898\n",
       " Mean of the DM-SNR curve                         9000\n",
       " Standard deviation of the DM-SNR curve          17894\n",
       " Excess kurtosis of the DM-SNR curve             17895\n",
       " Skewness of the DM-SNR curve                    17895\n",
       "target_class                                         2\n",
       "dtype: int64"
      ]
     },
     "execution_count": 10,
     "metadata": {},
     "output_type": "execute_result"
    }
   ],
   "source": [
    "data.nunique()"
   ]
  },
  {
   "cell_type": "markdown",
   "metadata": {},
   "source": [
    "전부 수치형은 맞는듯"
   ]
  },
  {
   "cell_type": "code",
   "execution_count": 16,
   "metadata": {},
   "outputs": [
    {
     "name": "stdout",
     "output_type": "stream",
     "text": [
      "training accuracy/target class ratio:  0.91\n"
     ]
    }
   ],
   "source": [
    "print(\"training accuracy/target class ratio: \", data['target_class'].value_counts(1)[0].round(2))"
   ]
  },
  {
   "cell_type": "code",
   "execution_count": 3,
   "metadata": {},
   "outputs": [
    {
     "data": {
      "text/plain": [
       "((14318, 8), (3580, 8), (14318,), (3580,))"
      ]
     },
     "execution_count": 3,
     "metadata": {},
     "output_type": "execute_result"
    }
   ],
   "source": [
    "from sklearn.model_selection import train_test_split\n",
    "\n",
    "# Define the feature matrix X and the target y\n",
    "X = data.drop('target_class', axis=1)\n",
    "y = data['target_class']\n",
    "\n",
    "# Split the data into train and test sets\n",
    "X_train, X_test, y_train, y_test = train_test_split(X, y, test_size=0.2, random_state=42)\n",
    "\n",
    "X_train.shape, X_test.shape, y_train.shape, y_test.shape\n"
   ]
  },
  {
   "cell_type": "code",
   "execution_count": 20,
   "metadata": {},
   "outputs": [
    {
     "data": {
      "text/html": [
       "<div>\n",
       "<style scoped>\n",
       "    .dataframe tbody tr th:only-of-type {\n",
       "        vertical-align: middle;\n",
       "    }\n",
       "\n",
       "    .dataframe tbody tr th {\n",
       "        vertical-align: top;\n",
       "    }\n",
       "\n",
       "    .dataframe thead th {\n",
       "        text-align: right;\n",
       "    }\n",
       "</style>\n",
       "<table border=\"1\" class=\"dataframe\">\n",
       "  <thead>\n",
       "    <tr style=\"text-align: right;\">\n",
       "      <th></th>\n",
       "      <th>Accuracy</th>\n",
       "      <th>Precision</th>\n",
       "      <th>Recall</th>\n",
       "      <th>F1 Score</th>\n",
       "      <th>ROC AUC Score</th>\n",
       "    </tr>\n",
       "  </thead>\n",
       "  <tbody>\n",
       "    <tr>\n",
       "      <th>Logistic Regression</th>\n",
       "      <td>0.978838</td>\n",
       "      <td>0.941688</td>\n",
       "      <td>0.820941</td>\n",
       "      <td>0.877179</td>\n",
       "      <td>0.907893</td>\n",
       "    </tr>\n",
       "    <tr>\n",
       "      <th>Decision Tree</th>\n",
       "      <td>0.993784</td>\n",
       "      <td>0.986540</td>\n",
       "      <td>0.945372</td>\n",
       "      <td>0.965517</td>\n",
       "      <td>0.972032</td>\n",
       "    </tr>\n",
       "    <tr>\n",
       "      <th>SVM</th>\n",
       "      <td>0.972692</td>\n",
       "      <td>0.938505</td>\n",
       "      <td>0.752656</td>\n",
       "      <td>0.835368</td>\n",
       "      <td>0.873828</td>\n",
       "    </tr>\n",
       "    <tr>\n",
       "      <th>Gradient Boosting</th>\n",
       "      <td>0.991898</td>\n",
       "      <td>0.984677</td>\n",
       "      <td>0.926404</td>\n",
       "      <td>0.954652</td>\n",
       "      <td>0.962471</td>\n",
       "    </tr>\n",
       "    <tr>\n",
       "      <th>Neural Network</th>\n",
       "      <td>0.976743</td>\n",
       "      <td>0.957289</td>\n",
       "      <td>0.782246</td>\n",
       "      <td>0.860960</td>\n",
       "      <td>0.889354</td>\n",
       "    </tr>\n",
       "  </tbody>\n",
       "</table>\n",
       "</div>"
      ],
      "text/plain": [
       "                     Accuracy  Precision    Recall  F1 Score  ROC AUC Score\n",
       "Logistic Regression  0.978838   0.941688  0.820941  0.877179       0.907893\n",
       "Decision Tree        0.993784   0.986540  0.945372  0.965517       0.972032\n",
       "SVM                  0.972692   0.938505  0.752656  0.835368       0.873828\n",
       "Gradient Boosting    0.991898   0.984677  0.926404  0.954652       0.962471\n",
       "Neural Network       0.976743   0.957289  0.782246  0.860960       0.889354"
      ]
     },
     "execution_count": 20,
     "metadata": {},
     "output_type": "execute_result"
    }
   ],
   "source": [
    "# Define a function to train a model and calculate performance metrics\n",
    "def evaluate_model(model, X_train, y_train, X_test):\n",
    "    # Fit the model\n",
    "    model.fit(X_train, y_train)\n",
    "    \n",
    "    # Make predictions\n",
    "    y_pred_train = model.predict(X_train)\n",
    "    \n",
    "    # Calculate performance metrics\n",
    "    accuracy = accuracy_score(y_train, y_pred_train)\n",
    "    precision = precision_score(y_train, y_pred_train)\n",
    "    recall = recall_score(y_train, y_pred_train)\n",
    "    f1 = f1_score(y_train, y_pred_train)\n",
    "    roc_auc = roc_auc_score(y_train, y_pred_train)\n",
    "    \n",
    "    # Return the performance metrics\n",
    "    return accuracy, precision, recall, f1, roc_auc\n",
    "\n",
    "# Define the models\n",
    "models = [\n",
    "    LogisticRegression(max_iter=1000),\n",
    "    DecisionTreeClassifier(random_state=42,max_depth = 11, criterion=\"entropy\"),\n",
    "    SVC(),\n",
    "    GradientBoostingClassifier(learning_rate=0.1, n_estimators=100, max_depth=5),\n",
    "    MLPClassifier(hidden_layer_sizes = (30, 30, 30), activation='relu', alpha=0.0001)\n",
    "]\n",
    "\n",
    "# Define a list to store the results\n",
    "results = []\n",
    "\n",
    "# Evaluate each model\n",
    "for model in models:\n",
    "    result = evaluate_model(model, X_train, y_train, X_train)\n",
    "    results.append(result)\n",
    "\n",
    "# Create a dataframe to store the results\n",
    "results_df = pd.DataFrame(results, columns=['Accuracy', 'Precision', 'Recall', 'F1 Score', 'ROC AUC Score'],\n",
    "                          index=['Logistic Regression', 'Decision Tree', 'SVM', 'Gradient Boosting', 'Neural Network'])\n",
    "results_df\n"
   ]
  },
  {
   "cell_type": "markdown",
   "metadata": {},
   "source": [
    "하이퍼 파라미터 튜닝,,"
   ]
  },
  {
   "cell_type": "code",
   "execution_count": 27,
   "metadata": {},
   "outputs": [
    {
     "data": {
      "text/plain": [
       "(0.9723463687150838,\n",
       " 0.8512658227848101,\n",
       " 0.838006230529595,\n",
       " 0.8445839874411303,\n",
       " 0.9117923144056382)"
      ]
     },
     "execution_count": 27,
     "metadata": {},
     "output_type": "execute_result"
    }
   ],
   "source": [
    "# Define the Gradient Boosting model\n",
    "model = DecisionTreeClassifier(random_state=42, max_depth = 15, criterion=\"entropy\")\n",
    "\n",
    "# Fit the model\n",
    "model.fit(X_train, y_train)\n",
    "\n",
    "# Make predictions on the test set\n",
    "y_pred_test = model.predict(X_test)\n",
    "\n",
    "# Calculate performance metrics\n",
    "accuracy = accuracy_score(y_test, y_pred_test)\n",
    "precision = precision_score(y_test, y_pred_test)\n",
    "recall = recall_score(y_test, y_pred_test)\n",
    "f1 = f1_score(y_test, y_pred_test)\n",
    "roc_auc = roc_auc_score(y_test, y_pred_test)\n",
    "\n",
    "accuracy, precision, recall, f1, roc_auc\n"
   ]
  },
  {
   "cell_type": "code",
   "execution_count": null,
   "metadata": {},
   "outputs": [],
   "source": [
    "model = GradientBoostingClassifier(learning_rate=0.1, n_estimators=100, max_depth=5)\n",
    "\n",
    "# Fit the model\n",
    "model.fit(X_train, y_train)\n",
    "\n",
    "# Make predictions on the test set\n",
    "y_pred_test = model.predict(X_test)\n",
    "\n",
    "# Calculate performance metrics\n",
    "accuracy = accuracy_score(y_test, y_pred_test)\n",
    "precision = precision_score(y_test, y_pred_test)\n",
    "recall = recall_score(y_test, y_pred_test)\n",
    "f1 = f1_score(y_test, y_pred_test)\n",
    "roc_auc = roc_auc_score(y_test, y_pred_test)\n",
    "\n",
    "accuracy, precision, recall, f1, roc_auc"
   ]
  },
  {
   "cell_type": "markdown",
   "metadata": {},
   "source": [
    "양성 클래스(펄서)를 정확하게 감지하는 것이 중요할 수 있으므로, 재현율이 높은 모델?"
   ]
  },
  {
   "cell_type": "code",
   "execution_count": null,
   "metadata": {},
   "outputs": [],
   "source": []
  }
 ],
 "metadata": {
  "kernelspec": {
   "display_name": "tp1",
   "language": "python",
   "name": "python3"
  },
  "language_info": {
   "codemirror_mode": {
    "name": "ipython",
    "version": 3
   },
   "file_extension": ".py",
   "mimetype": "text/x-python",
   "name": "python",
   "nbconvert_exporter": "python",
   "pygments_lexer": "ipython3",
   "version": "3.7.16"
  },
  "orig_nbformat": 4
 },
 "nbformat": 4,
 "nbformat_minor": 2
}
