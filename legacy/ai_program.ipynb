{
 "cells": [
  {
   "cell_type": "code",
   "execution_count": 24,
   "metadata": {},
   "outputs": [
    {
     "name": "stdout",
     "output_type": "stream",
     "text": [
      "[안내] 은닉 계층 2개를 갖는 다층 퍼셉트론이 적용됩니다.\n",
      "Epoch 1   : Train - Loss = 18.039, Accuracy = 0.689 / Test - Accuracy = 0.721\n",
      "Epoch 2   : Train - Loss = 10.624, Accuracy = 0.733 / Test - Accuracy = 0.721\n",
      "Epoch 3   : Train - Loss = 10.616, Accuracy = 0.734 / Test - Accuracy = 0.714\n",
      "Epoch 4   : Train - Loss = 10.622, Accuracy = 0.732 / Test - Accuracy = 0.719\n",
      "Epoch 5   : Train - Loss = 10.607, Accuracy = 0.733 / Test - Accuracy = 0.719\n",
      "Epoch 6   : Train - Loss = 10.619, Accuracy = 0.733 / Test - Accuracy = 0.719\n",
      "Epoch 7   : Train - Loss = 10.613, Accuracy = 0.732 / Test - Accuracy = 0.722\n",
      "Epoch 8   : Train - Loss = 10.623, Accuracy = 0.734 / Test - Accuracy = 0.718\n",
      "Epoch 9   : Train - Loss = 10.613, Accuracy = 0.732 / Test - Accuracy = 0.722\n",
      "Epoch 10   : Train - Loss = 10.616, Accuracy = 0.733 / Test - Accuracy = 0.717\n",
      "==============================  Final TEST  ==============================\n",
      "\n",
      "Final Accuracy = 0.717\n"
     ]
    }
   ],
   "source": [
    "# 회귀 모델 동작\n",
    "\n",
    "# 회귀문제 단층 퍼셉트론 모델 불러오기 \n",
    "%run /Users/kyuukkang/test/AIB/Section6/AIB_TP1/legacy/AnnModel1.ipynb\n",
    "# 다층 퍼셉트론 기능 추가 \n",
    "%run /Users/kyuukkang/test/AIB/Section6/AIB_TP1/legacy/mlp.ipynb\n",
    "\n",
    "# 아무 값도 입력하지 않으면 은닉계층을 갖지 않는 SLP 이 구축됩니다.\n",
    "set_hidden([1,2])\n",
    "# 메서드 동작\n",
    "main()"
   ]
  },
  {
   "cell_type": "code",
   "execution_count": 4,
   "metadata": {},
   "outputs": [
    {
     "name": "stdout",
     "output_type": "stream",
     "text": [
      "[안내] 은닉 계층 2개를 갖는 다층 퍼셉트론이 적용됩니다.\n",
      "Epoch 1   : Train - Loss = 0.379, Accuracy = 0.906 / Test - Accuracy = 0.911\n",
      "Epoch 2   : Train - Loss = 0.311, Accuracy = 0.906 / Test - Accuracy = 0.911\n",
      "Epoch 3   : Train - Loss = 0.311, Accuracy = 0.906 / Test - Accuracy = 0.911\n",
      "Epoch 4   : Train - Loss = 0.311, Accuracy = 0.906 / Test - Accuracy = 0.911\n",
      "Epoch 5   : Train - Loss = 0.311, Accuracy = 0.906 / Test - Accuracy = 0.911\n",
      "Epoch 6   : Train - Loss = 0.311, Accuracy = 0.906 / Test - Accuracy = 0.911\n",
      "Epoch 7   : Train - Loss = 0.311, Accuracy = 0.906 / Test - Accuracy = 0.911\n",
      "Epoch 8   : Train - Loss = 0.311, Accuracy = 0.906 / Test - Accuracy = 0.911\n",
      "Epoch 9   : Train - Loss = 0.311, Accuracy = 0.906 / Test - Accuracy = 0.911\n",
      "Epoch 10   : Train - Loss = 0.311, Accuracy = 0.906 / Test - Accuracy = 0.911\n",
      "==============================  Final TEST  ==============================\n",
      "\n",
      "Final Accuracy = 0.911\n"
     ]
    }
   ],
   "source": [
    "# 이진판단 모델동작\n",
    "\n",
    "# 회귀문제 단층 퍼셉트론 모델 불러오기 \n",
    "%run /Users/kyuukkang/test/AIB/Section6/AIB_TP1/legacy/AnnModel2.ipynb\n",
    "# 다층 퍼셉트론 기능 추가 \n",
    "%run /Users/kyuukkang/test/AIB/Section6/AIB_TP1/legacy/mlp.ipynb\n",
    "\n",
    "# 아무 값도 입력하지 않으면 은닉계층을 갖지 않는 SLP 이 구축됩니다.\n",
    "set_hidden([1,2])\n",
    "# 메서드 동작\n",
    "binary_main()"
   ]
  },
  {
   "cell_type": "code",
   "execution_count": 5,
   "metadata": {},
   "outputs": [
    {
     "name": "stdout",
     "output_type": "stream",
     "text": [
      "[안내] 은닉 계층 2개를 갖는 다층 퍼셉트론이 적용됩니다.\n",
      "[Epoch 1] Train Loss = 0.693 | Test Acc = 0.498, Precision = 0.000, Recall = 0.000, F1 = 0.000\n",
      "[Epoch 2] Train Loss = 0.693 | Test Acc = 0.502, Precision = 0.502, Recall = 1.000, F1 = 0.669\n",
      "[Epoch 3] Train Loss = 0.693 | Test Acc = 0.498, Precision = 0.000, Recall = 0.000, F1 = 0.000\n",
      "[Epoch 4] Train Loss = 0.693 | Test Acc = 0.498, Precision = 0.000, Recall = 0.000, F1 = 0.000\n",
      "[Epoch 5] Train Loss = 0.693 | Test Acc = 0.502, Precision = 0.502, Recall = 1.000, F1 = 0.669\n",
      "[Epoch 6] Train Loss = 0.693 | Test Acc = 0.498, Precision = 0.000, Recall = 0.000, F1 = 0.000\n",
      "[Epoch 7] Train Loss = 0.693 | Test Acc = 0.498, Precision = 0.000, Recall = 0.000, F1 = 0.000\n",
      "[Epoch 8] Train Loss = 0.693 | Test Acc = 0.498, Precision = 0.000, Recall = 0.000, F1 = 0.000\n",
      "[Epoch 9] Train Loss = 0.693 | Test Acc = 0.498, Precision = 0.000, Recall = 0.000, F1 = 0.000\n",
      "[Epoch 10] Train Loss = 0.693 | Test Acc = 0.502, Precision = 0.502, Recall = 1.000, F1 = 0.669\n",
      "\n",
      " ========================================  FINAL TEST REPORT ======================================== \n",
      "\n",
      "► Acc = 0.502 Precision = 0.502, Recall = 1.000, F1 = 0.669\n"
     ]
    }
   ],
   "source": [
    "# 이진판단 모델동작, 평가지표 개선 및 데이터 증폭 작업 실시\n",
    "\n",
    "# 회귀문제 단층 퍼셉트론 모델 불러오기 \n",
    "%run /Users/kyuukkang/test/AIB/Section6/AIB_TP1/legacy/AnnModel2_Plus.ipynb\n",
    "# 다층 퍼셉트론 기능 추가 \n",
    "%run /Users/kyuukkang/test/AIB/Section6/AIB_TP1/legacy/mlp.ipynb\n",
    "\n",
    "# 아무 값도 입력하지 않으면 은닉계층을 갖지 않는 SLP 이 구축됩니다.\n",
    "set_hidden([1,2])\n",
    "# 메서드 동작\n",
    "binary_main(adjust_ratio = True)"
   ]
  },
  {
   "cell_type": "code",
   "execution_count": 13,
   "metadata": {},
   "outputs": [
    {
     "name": "stdout",
     "output_type": "stream",
     "text": [
      "[안내] 은닉 계층 2개를 갖는 다층 퍼셉트론이 적용됩니다.\n",
      "Epoch 1   : Train - Loss = 2.049, Accuracy = 0.339 / Test - Accuracy = 0.355\n",
      "Epoch 2   : Train - Loss = 1.843, Accuracy = 0.341 / Test - Accuracy = 0.355\n",
      "Epoch 3   : Train - Loss = 1.798, Accuracy = 0.341 / Test - Accuracy = 0.355\n",
      "Epoch 4   : Train - Loss = 1.767, Accuracy = 0.341 / Test - Accuracy = 0.355\n",
      "Epoch 5   : Train - Loss = 1.746, Accuracy = 0.341 / Test - Accuracy = 0.355\n",
      "Epoch 6   : Train - Loss = 1.730, Accuracy = 0.341 / Test - Accuracy = 0.355\n",
      "Epoch 7   : Train - Loss = 1.719, Accuracy = 0.341 / Test - Accuracy = 0.355\n",
      "Epoch 8   : Train - Loss = 1.711, Accuracy = 0.341 / Test - Accuracy = 0.355\n",
      "Epoch 9   : Train - Loss = 1.705, Accuracy = 0.341 / Test - Accuracy = 0.355\n",
      "Epoch 10   : Train - Loss = 1.700, Accuracy = 0.341 / Test - Accuracy = 0.355\n",
      "==============================  Final TEST  ==============================\n",
      "\n",
      "Final Accuracy = 0.355\n"
     ]
    }
   ],
   "source": [
    "# 회귀문제 단층 퍼셉트론 모델 불러오기 \n",
    "%run /Users/kyuukkang/test/AIB/Section6/AIB_TP1/legacy/AnnModel3.ipynb\n",
    "# 다층 퍼셉트론 기능 추가 \n",
    "%run /Users/kyuukkang/test/AIB/Section6/AIB_TP1/legacy/mlp.ipynb\n",
    "\n",
    "# 아무 값도 입력하지 않으면 은닉계층을 갖지 않는 SLP 이 구축됩니다.\n",
    "set_hidden([2,5])\n",
    "# 메서드 동작\n",
    "multiple_main()"
   ]
  }
 ],
 "metadata": {
  "kernelspec": {
   "display_name": "venv_cp",
   "language": "python",
   "name": "python3"
  },
  "language_info": {
   "codemirror_mode": {
    "name": "ipython",
    "version": 3
   },
   "file_extension": ".py",
   "mimetype": "text/x-python",
   "name": "python",
   "nbconvert_exporter": "python",
   "pygments_lexer": "ipython3",
   "version": "3.7.16"
  },
  "orig_nbformat": 4
 },
 "nbformat": 4,
 "nbformat_minor": 2
}
