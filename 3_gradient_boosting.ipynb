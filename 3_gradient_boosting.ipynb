{
 "cells": [
  {
   "cell_type": "code",
   "execution_count": 3,
   "metadata": {},
   "outputs": [],
   "source": [
    "from sklearn.model_selection import train_test_split\n",
    "from sklearn.metrics import classification_report\n",
    "from sklearn.ensemble import GradientBoostingClassifier\n",
    "import pandas as pd"
   ]
  },
  {
   "cell_type": "code",
   "execution_count": 5,
   "metadata": {},
   "outputs": [],
   "source": [
    "data = pd.read_csv('./csv/multi_classification_data.csv')"
   ]
  },
  {
   "cell_type": "code",
   "execution_count": 7,
   "metadata": {},
   "outputs": [],
   "source": [
    "# Splitting the data into features and targets\n",
    "X = data.iloc[:, :-7]\n",
    "y_with_other = data.iloc[:, -7:]\n",
    "y_without_other = data.iloc[:, -8:-1]\n",
    "\n",
    "# Splitting the data into train and test sets\n",
    "X_train_with, X_test_with, y_train_with, y_test_with = train_test_split(X, y_with_other, test_size=0.2, random_state=42)\n",
    "X_train_without, X_test_without, y_train_without, y_test_without = train_test_split(X, y_without_other, test_size=0.2, random_state=42)\n",
    "\n",
    "# Create a Gradient Boosting classifier\n",
    "clf_with = GradientBoostingClassifier(random_state=42)\n",
    "clf_without = GradientBoostingClassifier(random_state=42)\n",
    "\n",
    "# Train the models\n",
    "clf_with.fit(X_train_with, y_train_with.idxmax(axis=1))\n",
    "clf_without.fit(X_train_without, y_train_without.idxmax(axis=1))\n",
    "\n",
    "# Make predictions\n",
    "y_pred_with = clf_with.predict(X_test_with)\n",
    "y_pred_without = clf_without.predict(X_test_without)\n",
    "\n",
    "# Calculate the classification reports\n",
    "report_with = classification_report(y_test_with.idxmax(axis=1), y_pred_with)\n",
    "report_without = classification_report(y_test_without.idxmax(axis=1), y_pred_without)"
   ]
  },
  {
   "cell_type": "code",
   "execution_count": 9,
   "metadata": {},
   "outputs": [
    {
     "name": "stdout",
     "output_type": "stream",
     "text": [
      "With other:\n",
      "               precision    recall  f1-score   support\n",
      "\n",
      "       Bumps       0.62      0.64      0.63        72\n",
      "   Dirtiness       0.60      0.75      0.67         8\n",
      "    K_Scatch       0.95      0.95      0.95        83\n",
      "Other_Faults       0.74      0.76      0.75       143\n",
      "      Pastry       0.68      0.59      0.63        29\n",
      "      Stains       1.00      0.92      0.96        13\n",
      "   Z_Scratch       0.97      0.90      0.94        41\n",
      "\n",
      "    accuracy                           0.79       389\n",
      "   macro avg       0.80      0.79      0.79       389\n",
      "weighted avg       0.79      0.79      0.79       389\n",
      "\n",
      "Without other:\n",
      "                 precision    recall  f1-score   support\n",
      "\n",
      "         Bumps       0.61      0.64      0.62        70\n",
      "     Dirtiness       0.60      0.75      0.67         8\n",
      "      K_Scatch       0.85      0.85      0.85        13\n",
      "        Pastry       0.76      0.59      0.67        27\n",
      "SigmoidOfAreas       0.85      0.87      0.86       223\n",
      "        Stains       1.00      0.92      0.96        13\n",
      "     Z_Scratch       1.00      0.94      0.97        35\n",
      "\n",
      "      accuracy                           0.81       389\n",
      "     macro avg       0.81      0.79      0.80       389\n",
      "  weighted avg       0.82      0.81      0.81       389\n",
      "\n"
     ]
    }
   ],
   "source": [
    "# Print the classification reports\n",
    "print('With other defaults:\\n', report_with)\n",
    "print('Without other defaults:\\n', report_without)"
   ]
  },
  {
   "cell_type": "code",
   "execution_count": null,
   "metadata": {},
   "outputs": [],
   "source": []
  }
 ],
 "metadata": {
  "kernelspec": {
   "display_name": "Python 3",
   "language": "python",
   "name": "python3"
  },
  "language_info": {
   "codemirror_mode": {
    "name": "ipython",
    "version": 3
   },
   "file_extension": ".py",
   "mimetype": "text/x-python",
   "name": "python",
   "nbconvert_exporter": "python",
   "pygments_lexer": "ipython3",
   "version": "3.11.3"
  },
  "orig_nbformat": 4
 },
 "nbformat": 4,
 "nbformat_minor": 2
}
