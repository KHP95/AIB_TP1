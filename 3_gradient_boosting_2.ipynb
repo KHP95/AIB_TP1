{
 "cells": [
  {
   "cell_type": "code",
   "execution_count": 20,
   "metadata": {},
   "outputs": [],
   "source": [
    "from sklearn.model_selection import train_test_split\n",
    "from sklearn.metrics import classification_report\n",
    "from sklearn.ensemble import GradientBoostingClassifier\n",
    "import pandas as pd"
   ]
  },
  {
   "cell_type": "code",
   "execution_count": 21,
   "metadata": {},
   "outputs": [],
   "source": [
    "data = pd.read_csv('./csv/multi_classification_data.csv')"
   ]
  },
  {
   "cell_type": "code",
   "execution_count": 22,
   "metadata": {},
   "outputs": [],
   "source": [
    "# Splitting the data into features and targets\n",
    "X = data.iloc[:, :-7]\n",
    "y_with_other = data.iloc[:, -7:]\n",
    "y_without_other = data.iloc[:, -8:-1]\n",
    "\n",
    "# Splitting the data into train and test sets\n",
    "X_train_with, X_test_with, y_train_with, y_test_with = train_test_split(X, y_with_other, test_size=0.2, random_state=42)\n",
    "X_train_without, X_test_without, y_train_without, y_test_without = train_test_split(X, y_without_other, test_size=0.2, random_state=42)\n",
    "\n",
    "# Create a Gradient Boosting classifier\n",
    "clf_with = GradientBoostingClassifier(random_state=42)\n",
    "clf_without = GradientBoostingClassifier(random_state=42)\n",
    "\n",
    "# Train the models\n",
    "clf_with.fit(X_train_with, y_train_with.idxmax(axis=1))\n",
    "clf_without.fit(X_train_without, y_train_without.idxmax(axis=1))\n",
    "\n",
    "# Make predictions\n",
    "y_pred_with = clf_with.predict(X_test_with)\n",
    "y_pred_without = clf_without.predict(X_test_without)\n",
    "\n",
    "# Calculate the classification reports\n",
    "report_with = classification_report(y_test_with.idxmax(axis=1), y_pred_with)\n",
    "report_without = classification_report(y_test_without.idxmax(axis=1), y_pred_without)"
   ]
  },
  {
   "cell_type": "code",
   "execution_count": 23,
   "metadata": {},
   "outputs": [
    {
     "name": "stdout",
     "output_type": "stream",
     "text": [
      "With other defaults:\n",
      "               precision    recall  f1-score   support\n",
      "\n",
      "       Bumps       0.62      0.64      0.63        72\n",
      "   Dirtiness       0.60      0.75      0.67         8\n",
      "    K_Scatch       0.95      0.95      0.95        83\n",
      "Other_Faults       0.74      0.76      0.75       143\n",
      "      Pastry       0.68      0.59      0.63        29\n",
      "      Stains       1.00      0.92      0.96        13\n",
      "   Z_Scratch       0.97      0.90      0.94        41\n",
      "\n",
      "    accuracy                           0.79       389\n",
      "   macro avg       0.80      0.79      0.79       389\n",
      "weighted avg       0.79      0.79      0.79       389\n",
      "\n",
      "Without other defaults:\n",
      "                 precision    recall  f1-score   support\n",
      "\n",
      "         Bumps       0.61      0.64      0.62        70\n",
      "     Dirtiness       0.60      0.75      0.67         8\n",
      "      K_Scatch       0.85      0.85      0.85        13\n",
      "        Pastry       0.76      0.59      0.67        27\n",
      "SigmoidOfAreas       0.85      0.87      0.86       223\n",
      "        Stains       1.00      0.92      0.96        13\n",
      "     Z_Scratch       1.00      0.94      0.97        35\n",
      "\n",
      "      accuracy                           0.81       389\n",
      "     macro avg       0.81      0.79      0.80       389\n",
      "  weighted avg       0.82      0.81      0.81       389\n",
      "\n"
     ]
    }
   ],
   "source": [
    "# Print the classification reports\n",
    "print('With other defaults:\\n', report_with)\n",
    "print('Without other defaults:\\n', report_without)"
   ]
  },
  {
   "attachments": {},
   "cell_type": "markdown",
   "metadata": {},
   "source": [
    "GradientBoostingClassifier의 경우 튜닝을 고려할 수 있는 몇 가지 주요 하이퍼파라미터가 있습니다:  \n",
    "\n",
    "1. n_estimators: 수행할 부스팅 단계의 수입니다. 그라디언트 부스팅은 과적합에 상당히 강하므로 일반적으로 숫자가 많을수록 성능이 향상됩니다.  \n",
    "2. learning_rate: 각 트리가 최종 결과에 미치는 영향을 결정합니다. GBM은 각 트리의 출력을 사용하여 업데이트되는 초기 추정치로 시작하여 작동합니다. 학습 매개변수는 이러한 추정치 변화의 크기를 제어합니다.\n",
    "3. 최대_뎁스: 개별 회귀 추정기의 최대 깊이입니다. 최대 깊이는 트리의 노드 수를 제한합니다.  \n",
    "4. MIN_SAMPS_SPLIT: 내부 노드를 분할하는 데 필요한 최소 샘플 수입니다.  \n",
    "5. MIN_SAMPS_LEAF: 리프 노드에 필요한 최소 샘플 수입니다.  \n",
    "여기서는 이러한 하이퍼파라미터를 조정하기 위해 sklearn.model_selection의 GridSearchCV를 사용하겠습니다. GridSearchCV는 하이퍼파라미터 튜닝을 수행하는 데 사용되는 메서드입니다. 이 방법은 지정한 다양한 매개 변수에 대해 모델을 여러 번 훈련한 다음 가장 성능이 좋은 매개 변수를 반환하는 방식으로 작동합니다."
   ]
  },
  {
   "cell_type": "code",
   "execution_count": 24,
   "metadata": {},
   "outputs": [],
   "source": [
    "from sklearn.ensemble import GradientBoostingClassifier\n",
    "from sklearn.model_selection import RandomizedSearchCV"
   ]
  },
  {
   "cell_type": "code",
   "execution_count": 25,
   "metadata": {},
   "outputs": [
    {
     "name": "stdout",
     "output_type": "stream",
     "text": [
      "Fitting 3 folds for each of 9 candidates, totalling 27 fits\n"
     ]
    },
    {
     "data": {
      "text/plain": [
       "{'n_estimators': 150, 'learning_rate': 0.1}"
      ]
     },
     "execution_count": 25,
     "metadata": {},
     "output_type": "execute_result"
    }
   ],
   "source": [
    "# Define the GradientBoostingClassifier\n",
    "gb = GradientBoostingClassifier(random_state=42)\n",
    "\n",
    "# Define a smaller parameter distribution\n",
    "param_dist_small = {\n",
    "    'n_estimators': [50, 100, 150],\n",
    "    'learning_rate': [0.1, 0.01, 0.001]\n",
    "}\n",
    "\n",
    "# Instantiate the randomized search model with smaller distribution\n",
    "rand_search_small = RandomizedSearchCV(estimator=gb, param_distributions=param_dist_small, \n",
    "                                       n_iter=9, cv=3, n_jobs=-1, verbose=2, random_state=42)\n",
    "\n",
    "# Fit the randomized search to the data\n",
    "rand_search_small.fit(X_train_without, y_train_without.idxmax(axis=1))\n",
    "\n",
    "rand_search_small.best_params_"
   ]
  },
  {
   "attachments": {},
   "cell_type": "markdown",
   "metadata": {},
   "source": [
    "위 하이퍼파라미터를 사용하여 그라디언트 부스팅으로 훈련하고 성능을 평가"
   ]
  },
  {
   "cell_type": "code",
   "execution_count": 38,
   "metadata": {},
   "outputs": [
    {
     "name": "stdout",
     "output_type": "stream",
     "text": [
      "result:\n",
      "               precision    recall  f1-score   support\n",
      "\n",
      "       Bumps       0.77      0.67      0.72        81\n",
      "   Dirtiness       1.00      0.64      0.78        11\n",
      "    K_Scatch       0.99      0.97      0.98        78\n",
      "      Pastry       0.80      0.90      0.85       167\n",
      "      Stains       1.00      0.93      0.96        14\n",
      "   Z_Scratch       1.00      0.89      0.94        38\n",
      "\n",
      "    accuracy                           0.86       389\n",
      "   macro avg       0.93      0.83      0.87       389\n",
      "weighted avg       0.87      0.86      0.86       389\n",
      "\n"
     ]
    }
   ],
   "source": [
    "data = pd.read_csv('./csv/multi_classification_data.csv')\n",
    "\n",
    "# Define the feature set 'X' and the target set 'y'\n",
    "X = data.iloc[:, :-7]\n",
    "y = data.iloc[:, -7:]\n",
    "\n",
    "# Define the target set without the 'Other_Faults' column\n",
    "y_without_other = y.drop('Other_Faults', axis=1)\n",
    "\n",
    "# Split the data without 'Other_Faults' into training and validation sets\n",
    "X_train_without, X_val_without, y_train_without, y_val_without = train_test_split(\n",
    "    X, y_without_other, test_size=0.2, random_state=42, stratify=y_without_other)\n",
    "\n",
    "# Train the Gradient Boosting Classifier with the best hyperparameters\n",
    "best_gb = GradientBoostingClassifier(n_estimators=140, learning_rate=0.3, random_state=42)\n",
    "best_gb.fit(X_train_without, y_train_without.idxmax(axis=1))\n",
    "\n",
    "# Predict the classes on validation data\n",
    "y_pred_without_best_gb = best_gb.predict(X_val_without)\n",
    "\n",
    "# Compute the classification report\n",
    "classification_report_without_best_gb = classification_report(y_val_without.idxmax(axis=1), y_pred_without_best_gb)\n",
    "print('result:\\n', classification_report_without_best_gb)\n"
   ]
  },
  {
   "attachments": {},
   "cell_type": "markdown",
   "metadata": {},
   "source": [
    "위의 점수가 지금까지 내가 한 작업 중에서 가장 높은 점수임.  (0.86)\n",
    "아래 스무트 -> 그라디언트 부스팅  : 0.83  \n",
    "     스무트 -> 다중 신경망 : 0.42 \n",
    "\n",
    "돌려본 결과로는 머신러닝이 딥러닝보다 훨씬 성능이 높게 평가됨."
   ]
  },
  {
   "cell_type": "code",
   "execution_count": 40,
   "metadata": {},
   "outputs": [
    {
     "name": "stdout",
     "output_type": "stream",
     "text": [
      "result:\n",
      "               precision    recall  f1-score   support\n",
      "\n",
      "       Bumps       0.67      0.72      0.69        81\n",
      "   Dirtiness       0.91      0.91      0.91        11\n",
      "    K_Scatch       0.95      0.90      0.92        78\n",
      "      Pastry       0.82      0.80      0.81       167\n",
      "      Stains       0.93      1.00      0.97        14\n",
      "   Z_Scratch       0.92      0.92      0.92        38\n",
      "\n",
      "    accuracy                           0.83       389\n",
      "   macro avg       0.87      0.87      0.87       389\n",
      "weighted avg       0.83      0.83      0.83       389\n",
      "\n"
     ]
    }
   ],
   "source": [
    "from imblearn.over_sampling import SMOTE\n",
    "\n",
    "data = pd.read_csv('./csv/multi_classification_data.csv')\n",
    "\n",
    "# Define the feature set 'X' and the target set 'y'\n",
    "X = data.iloc[:, :-7]\n",
    "y = data.iloc[:, -7:]\n",
    "\n",
    "# Define the target set without the 'Other_Faults' column\n",
    "y_without_other = y.drop('Other_Faults', axis=1)\n",
    "\n",
    "# Convert one-hot encoded target to labels\n",
    "y_label = y_without_other.idxmax(axis=1)  # Get column name (label) of max value in each row\n",
    "\n",
    "# Split the data without 'Other_Faults' into training and validation sets\n",
    "X_train_without, X_val_without, y_train_without_label, y_val_without_label = train_test_split(\n",
    "    X, y_label, test_size=0.2, random_state=42, stratify=y_label)\n",
    "\n",
    "# Create a SMOTE object\n",
    "smote = SMOTE(random_state=42)\n",
    "\n",
    "# Oversample the training dataset\n",
    "X_train_res, y_train_res = smote.fit_resample(X_train_without, y_train_without_label)\n",
    "\n",
    "# Train the Gradient Boosting Classifier with the best hyperparameters\n",
    "best_gb = GradientBoostingClassifier(n_estimators=140, learning_rate=0.3, random_state=42)\n",
    "best_gb.fit(X_train_res, y_train_res)\n",
    "\n",
    "# Predict the classes on validation data\n",
    "y_pred_without_best_gb = best_gb.predict(X_val_without)\n",
    "\n",
    "# Compute the classification report\n",
    "classification_report_without_best_gb = classification_report(y_val_without_label, y_pred_without_best_gb)\n",
    "\n",
    "print('result:\\n', classification_report_without_best_gb)"
   ]
  },
  {
   "cell_type": "code",
   "execution_count": 21,
   "metadata": {},
   "outputs": [
    {
     "name": "stdout",
     "output_type": "stream",
     "text": [
      "Requirement already satisfied: keras-tuner in c:\\programdata\\anaconda3\\envs\\teamproject\\lib\\site-packages (1.3.5)\n",
      "Requirement already satisfied: packaging in c:\\programdata\\anaconda3\\envs\\teamproject\\lib\\site-packages (from keras-tuner) (23.1)\n",
      "Requirement already satisfied: requests in c:\\programdata\\anaconda3\\envs\\teamproject\\lib\\site-packages (from keras-tuner) (2.31.0)\n",
      "Requirement already satisfied: kt-legacy in c:\\programdata\\anaconda3\\envs\\teamproject\\lib\\site-packages (from keras-tuner) (1.0.5)\n",
      "Requirement already satisfied: charset-normalizer<4,>=2 in c:\\programdata\\anaconda3\\envs\\teamproject\\lib\\site-packages (from requests->keras-tuner) (3.2.0)\n",
      "Requirement already satisfied: idna<4,>=2.5 in c:\\programdata\\anaconda3\\envs\\teamproject\\lib\\site-packages (from requests->keras-tuner) (3.4)\n",
      "Requirement already satisfied: urllib3<3,>=1.21.1 in c:\\programdata\\anaconda3\\envs\\teamproject\\lib\\site-packages (from requests->keras-tuner) (1.26.16)\n",
      "Requirement already satisfied: certifi>=2017.4.17 in c:\\programdata\\anaconda3\\envs\\teamproject\\lib\\site-packages (from requests->keras-tuner) (2023.5.7)\n",
      "Note: you may need to restart the kernel to use updated packages.\n"
     ]
    }
   ],
   "source": [
    "%pip install keras-tuner"
   ]
  },
  {
   "cell_type": "code",
   "execution_count": 1,
   "metadata": {},
   "outputs": [],
   "source": [
    "import numpy as np\n",
    "from tensorflow import keras\n",
    "from tensorflow.python.keras import layers, models, regularizers, optimizers, callbacks\n",
    "from keras_tuner import RandomSearch\n",
    "import tensorflow as tf\n",
    "from keras_tuner.engine.hyperparameters import HyperParameters\n",
    "from sklearn.model_selection import train_test_split\n",
    "from sklearn.metrics import classification_report\n",
    "import pandas as pd\n",
    "from matplotlib import pyplot as plt"
   ]
  },
  {
   "cell_type": "code",
   "execution_count": 7,
   "metadata": {},
   "outputs": [],
   "source": [
    "from imblearn.over_sampling import SMOTE\n",
    "from sklearn.preprocessing import LabelEncoder"
   ]
  },
  {
   "cell_type": "code",
   "execution_count": 8,
   "metadata": {},
   "outputs": [],
   "source": [
    "data = pd.read_csv('./csv/multi_classification_data.csv')"
   ]
  },
  {
   "cell_type": "code",
   "execution_count": 9,
   "metadata": {},
   "outputs": [
    {
     "data": {
      "text/plain": [
       "((3768, 27), (3768, 7), (943, 27), (943, 7))"
      ]
     },
     "execution_count": 9,
     "metadata": {},
     "output_type": "execute_result"
    }
   ],
   "source": [
    "\n",
    "# Define the feature set 'X' and the target set 'y'\n",
    "X = data.iloc[:, :-7]\n",
    "y = data.iloc[:, -7:]\n",
    "\n",
    "# Convert one-hot encoded target to labels\n",
    "y_label = y.idxmax(axis=1)  # Get column name (label) of max value in each row\n",
    "\n",
    "# Create a SMOTE object\n",
    "smote = SMOTE()\n",
    "\n",
    "# Oversample the dataset\n",
    "X_res, y_res_label = smote.fit_resample(X, y_label)\n",
    "\n",
    "# Convert labels back to one-hot encoding\n",
    "label_encoder = LabelEncoder()\n",
    "y_res_label_encoded = label_encoder.fit_transform(y_res_label)\n",
    "y_res = pd.get_dummies(y_res_label_encoded)\n",
    "\n",
    "\n",
    "# Split the data into training and validation sets\n",
    "X_train, X_val, y_train, y_val = train_test_split(X_res, y_res, test_size=0.2, random_state=42)\n",
    "\n",
    "# Checking the shape of the training and validation sets\n",
    "X_train.shape, y_train.shape, X_val.shape, y_val.shape\n"
   ]
  },
  {
   "cell_type": "code",
   "execution_count": 10,
   "metadata": {},
   "outputs": [
    {
     "data": {
      "image/png": "[encoded data removed]",
      "text/plain": [
       "<Figure size 640x480 with 1 Axes>"
      ]
     },
     "metadata": {},
     "output_type": "display_data"
    }
   ],
   "source": [
    "# Convert the pandas dataframes into tensorflow datasets\n",
    "train_ds = tf.data.Dataset.from_tensor_slices((X_train.values, y_train.values))\n",
    "valid_ds = tf.data.Dataset.from_tensor_slices((X_val.values, y_val.values))\n",
    "\n",
    "# Shuffle and batch the datasets\n",
    "train_ds = train_ds.cache().shuffle(1000).batch(32)\n",
    "valid_ds = valid_ds.cache().batch(32)\n",
    "\n",
    "# Define the keras model\n",
    "l1 = tf.keras.regularizers.l1(1e-4)\n",
    "nn = keras.models.Sequential([\n",
    "    keras.layers.Dense(64, input_shape=[X_train.shape[1]],\n",
    "                       kernel_regularizer=l1),\n",
    "    keras.layers.BatchNormalization(),\n",
    "    keras.layers.ReLU(),\n",
    "    keras.layers.Dense(32, kernel_regularizer=l1),\n",
    "    keras.layers.BatchNormalization(),\n",
    "    keras.layers.ReLU(),\n",
    "    keras.layers.Dense(16, kernel_regularizer=l1),\n",
    "    keras.layers.BatchNormalization(),\n",
    "    keras.layers.ReLU(),\n",
    "    keras.layers.Dense(8, kernel_regularizer=l1),\n",
    "    keras.layers.BatchNormalization(),\n",
    "    keras.layers.ReLU(),\n",
    "    keras.layers.Dense(y_train.shape[1]), # Adjusted here\n",
    "])\n",
    "\n",
    "# Compile the model\n",
    "nn.compile(optimizer=keras.optimizers.Adam(0.01),\n",
    "           loss='mse')\n",
    "\n",
    "# Define callbacks\n",
    "reduce_lr = tf.keras.callbacks.ReduceLROnPlateau(monitor='val_loss',\n",
    "                                                 factor=0.5, patience=6,\n",
    "                                                 verbose=0, mode='auto')\n",
    "e_stop = tf.keras.callbacks.EarlyStopping(monitor='val_loss',\n",
    "                                          patience=12,\n",
    "                                          restore_best_weights=True)\n",
    "\n",
    "# Train the model\n",
    "hist = nn.fit(train_ds,\n",
    "              validation_data=valid_ds,\n",
    "              epochs=200,\n",
    "              callbacks=[reduce_lr, e_stop],\n",
    "              verbose=0)\n",
    "\n",
    "# Plot the training and validation loss\n",
    "plt.plot(hist.history['loss'], label='train')\n",
    "plt.plot(hist.history['val_loss'], label='val')\n",
    "plt.xlabel('epoch')\n",
    "plt.ylabel('loss')\n",
    "plt.legend()\n",
    "plt.show()"
   ]
  },
  {
   "cell_type": "code",
   "execution_count": 12,
   "metadata": {},
   "outputs": [
    {
     "name": "stdout",
     "output_type": "stream",
     "text": [
      "30/30 [==============================] - 0s 500us/step\n",
      "              precision    recall  f1-score   support\n",
      "\n",
      "       Bumps       0.38      0.28      0.33       124\n",
      "   Dirtiness       0.39      0.73      0.51       144\n",
      "    K_Scatch       0.83      0.83      0.83       126\n",
      "Other_Faults       0.20      0.07      0.11       134\n",
      "      Pastry       0.00      0.00      0.00       139\n",
      "      Stains       0.39      0.92      0.55       134\n",
      "   Z_Scratch       0.19      0.12      0.15       142\n",
      "\n",
      "    accuracy                           0.42       943\n",
      "   macro avg       0.34      0.42      0.35       943\n",
      "weighted avg       0.33      0.42      0.35       943\n",
      "\n"
     ]
    },
    {
     "name": "stderr",
     "output_type": "stream",
     "text": [
      "c:\\ProgramData\\anaconda3\\envs\\TeamProject\\Lib\\site-packages\\sklearn\\metrics\\_classification.py:1469: UndefinedMetricWarning: Precision and F-score are ill-defined and being set to 0.0 in labels with no predicted samples. Use `zero_division` parameter to control this behavior.\n",
      "  _warn_prf(average, modifier, msg_start, len(result))\n",
      "c:\\ProgramData\\anaconda3\\envs\\TeamProject\\Lib\\site-packages\\sklearn\\metrics\\_classification.py:1469: UndefinedMetricWarning: Precision and F-score are ill-defined and being set to 0.0 in labels with no predicted samples. Use `zero_division` parameter to control this behavior.\n",
      "  _warn_prf(average, modifier, msg_start, len(result))\n",
      "c:\\ProgramData\\anaconda3\\envs\\TeamProject\\Lib\\site-packages\\sklearn\\metrics\\_classification.py:1469: UndefinedMetricWarning: Precision and F-score are ill-defined and being set to 0.0 in labels with no predicted samples. Use `zero_division` parameter to control this behavior.\n",
      "  _warn_prf(average, modifier, msg_start, len(result))\n"
     ]
    }
   ],
   "source": [
    "# Make predictions on the validation set\n",
    "y_val_pred = nn.predict(X_val)\n",
    "\n",
    "# Convert the predictions and true values to integer type\n",
    "y_val_pred = np.argmax(y_val_pred, axis=1)\n",
    "y_val_true = np.argmax(y_val.values, axis=1)\n",
    "\n",
    "# Define the target names\n",
    "target_names = label_encoder.inverse_transform(np.arange(y_train.shape[1]))\n",
    "\n",
    "\n",
    "# Generate classification report\n",
    "classification_rep = classification_report(y_val_true, y_val_pred, target_names=target_names)\n",
    "\n",
    "print(classification_rep)"
   ]
  }
 ],
 "metadata": {
  "kernelspec": {
   "display_name": "Python 3",
   "language": "python",
   "name": "python3"
  },
  "language_info": {
   "codemirror_mode": {
    "name": "ipython",
    "version": 3
   },
   "file_extension": ".py",
   "mimetype": "text/x-python",
   "name": "python",
   "nbconvert_exporter": "python",
   "pygments_lexer": "ipython3",
   "version": "3.11.4"
  },
  "orig_nbformat": 4
 },
 "nbformat": 4,
 "nbformat_minor": 2
}
